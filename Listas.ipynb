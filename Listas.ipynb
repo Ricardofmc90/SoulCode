{
  "nbformat": 4,
  "nbformat_minor": 0,
  "metadata": {
    "colab": {
      "name": "Untitled2.ipynb",
      "provenance": [],
      "toc_visible": true,
      "authorship_tag": "ABX9TyOMi89NRBv4eH3bB5NiJjOT"
    },
    "kernelspec": {
      "name": "python3",
      "display_name": "Python 3"
    },
    "language_info": {
      "name": "python"
    }
  },
  "cells": [
    {
      "cell_type": "code",
      "metadata": {
        "id": "6NjjUaJJZxF0"
      },
      "source": [
        "#1) Faça um Programa que leia uma lista de 5 números inteiros e mostre-os.\n",
        "\n",
        "print('***Neste programa você digitará uma sequência de cinco números!***\\n')\n",
        "\n",
        "i=0\n",
        "sequencia = []\n",
        "\n",
        "while i<5:\n",
        "    print(f\"\\nDigite o {i+1}º número: \")\n",
        "    try:\n",
        "        num = float(input())\n",
        "        sequencia.append(num)\n",
        "        i+=1\n",
        "    except:\n",
        "        print(\"\\nDigite um número válido!\\n\")\n",
        "\n",
        "print(f\"\\nOs números digitados foram: {sequencia}\")"
      ],
      "execution_count": null,
      "outputs": []
    }
  ]
}