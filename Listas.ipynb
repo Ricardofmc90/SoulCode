{
  "nbformat": 4,
  "nbformat_minor": 0,
  "metadata": {
    "colab": {
      "name": "Untitled2.ipynb",
      "provenance": [],
      "toc_visible": true,
      "authorship_tag": "ABX9TyNKT6VVZtWJWtxtTYSxs78U"
    },
    "kernelspec": {
      "name": "python3",
      "display_name": "Python 3"
    },
    "language_info": {
      "name": "python"
    }
  },
  "cells": [
    {
      "cell_type": "code",
      "metadata": {
        "colab": {
          "base_uri": "https://localhost:8080/"
        },
        "id": "6NjjUaJJZxF0",
        "outputId": "555d98b3-4093-4ac1-f4f3-92ce12b28f84"
      },
      "source": [
        "#1) Faça um Programa que leia uma lista de 5 números inteiros e mostre-os.\n",
        "\n",
        "print('***Neste programa você digitará uma sequência de cinco números!***\\n')\n",
        "\n",
        "i=0\n",
        "sequencia = []\n",
        "\n",
        "while i<5:\n",
        "    print(f\"\\nDigite o {i+1}º número: \")\n",
        "    try:\n",
        "        num = float(input())\n",
        "        sequencia.append(num)\n",
        "        i+=1\n",
        "    except:\n",
        "        print(\"\\nDigite um número válido!\\n\")\n",
        "\n",
        "print(f\"\\nOs números digitados foram: {sequencia}\")10\n"
      ],
      "execution_count": 1,
      "outputs": [
        {
          "output_type": "stream",
          "text": [
            "***Neste programa você digitará uma sequência de cinco números!***\n",
            "\n",
            "\n",
            "Digite o 1º número: \n",
            "10\n",
            "\n",
            "Digite o 2º número: \n",
            "10\n",
            "\n",
            "Digite o 3º número: \n",
            "20\n",
            "\n",
            "Digite o 4º número: \n",
            "50\n",
            "\n",
            "Digite o 5º número: \n",
            "50\n",
            "\n",
            "Os números digitados foram: [10.0, 10.0, 20.0, 50.0, 50.0]\n"
          ],
          "name": "stdout"
        }
      ]
    },
    {
      "cell_type": "code",
      "metadata": {
        "id": "3rSHn48NaZQ-"
      },
      "source": [
        "#2) Faça um Programa que leia uma lista de 10 números reais e mostre-os na ordem inversa.\n",
        "\n",
        "print('***Neste programa você digitará uma sequência de dez números e eles serão mostrados na ordem inversa!***\\n')\n",
        "\n",
        "i=0\n",
        "sequencia = []\n",
        "\n",
        "for i in range(10):\n",
        "    print(f\"\\nDigite o {i+1}º número: \")\n",
        "    try:\n",
        "        num = float(input())\n",
        "        sequencia.append(num)\n",
        "    except:\n",
        "        print(\"\\nDigite um número válido!\\n\")\n",
        "\n",
        "sequencia.reverse()\n",
        "\n",
        "print(f\"\\nOs números digitados foram: {sequencia}\")"
      ],
      "execution_count": null,
      "outputs": []
    }
  ]
}